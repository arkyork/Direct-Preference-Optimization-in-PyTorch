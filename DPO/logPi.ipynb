{
 "cells": [
  {
   "cell_type": "markdown",
   "metadata": {},
   "source": [
    "## モデルの読み込み"
   ]
  },
  {
   "cell_type": "code",
   "execution_count": 1,
   "metadata": {},
   "outputs": [],
   "source": [
    "from datasets import load_dataset\n",
    "from torch.optim import AdamW\n",
    "from transformers import (\n",
    "    AutoModelForCausalLM,\n",
    "    AutoTokenizer\n",
    ")\n",
    "import torch\n",
    "\n",
    "model_id = \"meta-llama/Llama-3.2-1B\"\n",
    "\n",
    "\n",
    "model = AutoModelForCausalLM.from_pretrained(\n",
    "            model_id,device_map=\"cuda\")\n",
    "\n",
    "ref_model = AutoModelForCausalLM.from_pretrained(\n",
    "            model_id,device_map=\"cuda\")\n",
    "\n",
    "tokenizer = AutoTokenizer.from_pretrained(model_id)\n"
   ]
  },
  {
   "cell_type": "markdown",
   "metadata": {},
   "source": [
    "## データセットの読み込みと形状の確認"
   ]
  },
  {
   "cell_type": "code",
   "execution_count": 2,
   "metadata": {},
   "outputs": [],
   "source": [
    "ds = load_dataset(\"HumanLLMs/Human-Like-DPO-Dataset\")[\"train\"][0]"
   ]
  },
  {
   "cell_type": "code",
   "execution_count": 3,
   "metadata": {},
   "outputs": [],
   "source": [
    "chosen_text=ds[\"prompt\"]+ds[\"chosen\"]\n",
    "rejected_text = ds[\"prompt\"]+ds[\"rejected\"]"
   ]
  },
  {
   "cell_type": "code",
   "execution_count": 4,
   "metadata": {},
   "outputs": [],
   "source": [
    "chosen_tokens = tokenizer(chosen_text,return_tensors=\"pt\")\n",
    "\n",
    "chosen_input_ids= chosen_tokens[\"input_ids\"].to(model.device)\n",
    "chosen_attention_mask = chosen_tokens[\"attention_mask\"].to(model.device)"
   ]
  },
  {
   "cell_type": "code",
   "execution_count": 5,
   "metadata": {},
   "outputs": [],
   "source": [
    "outputs=model(input_ids=chosen_input_ids,attention_mask=chosen_attention_mask)"
   ]
  },
  {
   "cell_type": "code",
   "execution_count": 6,
   "metadata": {},
   "outputs": [
    {
     "name": "stdout",
     "output_type": "stream",
     "text": [
      "入力の形状 torch.Size([1, 54])\n",
      "ロジットの形状 torch.Size([1, 54, 128256])\n"
     ]
    }
   ],
   "source": [
    "print(\"入力の形状\",chosen_input_ids.shape)\n",
    "\n",
    "# logit -> batch,seq,vocab\n",
    "print(\"ロジットの形状\",outputs.logits.shape)"
   ]
  },
  {
   "cell_type": "code",
   "execution_count": 7,
   "metadata": {},
   "outputs": [
    {
     "data": {
      "text/plain": [
       "torch.Size([1, 128256])"
      ]
     },
     "execution_count": 7,
     "metadata": {},
     "output_type": "execute_result"
    }
   ],
   "source": [
    "# 時刻t=1におけるロジット\n",
    "outputs.logits[:,1,:].shape"
   ]
  },
  {
   "cell_type": "code",
   "execution_count": 8,
   "metadata": {},
   "outputs": [
    {
     "data": {
      "text/plain": [
       "torch.Size([1, 128256])"
      ]
     },
     "execution_count": 8,
     "metadata": {},
     "output_type": "execute_result"
    }
   ],
   "source": [
    "# 時刻t=3におけるロジット\n",
    "outputs.logits[:,3,:].shape"
   ]
  },
  {
   "cell_type": "markdown",
   "metadata": {},
   "source": [
    "## 確率の計算"
   ]
  },
  {
   "cell_type": "code",
   "execution_count": 9,
   "metadata": {},
   "outputs": [
    {
     "data": {
      "text/plain": [
       "tensor([[[ 7.0543,  9.0268, 13.3232,  ..., -3.7595, -3.7596, -3.7596],\n",
       "         [17.0245,  8.0694,  8.2875,  ..., -0.3987, -0.3988, -0.3994],\n",
       "         [ 8.8644,  3.6967,  5.0680,  ...,  0.1932,  0.1933,  0.1927],\n",
       "         ...,\n",
       "         [-0.8128, -1.8097, -0.0361,  ...,  7.4711,  7.4714,  7.4720],\n",
       "         [ 2.9312,  3.1062,  1.9763,  ...,  0.0846,  0.0849,  0.0849],\n",
       "         [15.0278, 13.0997, 13.9905,  ..., -1.9659, -1.9658, -1.9656]]],\n",
       "       device='cuda:0', grad_fn=<UnsafeViewBackward0>)"
      ]
     },
     "execution_count": 9,
     "metadata": {},
     "output_type": "execute_result"
    }
   ],
   "source": [
    "import torch.nn.functional as f\n",
    "# ロジット\n",
    "logits = outputs.logits\n",
    "logits"
   ]
  },
  {
   "cell_type": "code",
   "execution_count": 10,
   "metadata": {},
   "outputs": [
    {
     "data": {
      "text/plain": [
       "torch.Size([1, 54, 128256])"
      ]
     },
     "execution_count": 10,
     "metadata": {},
     "output_type": "execute_result"
    }
   ],
   "source": [
    "prob=f.log_softmax(logits, dim=-1)\n",
    "prob.shape\n",
    "\n",
    "# dim=-1 は 最後の次元である vocab_size に沿ってlog_softmaxを適応 "
   ]
  },
  {
   "cell_type": "code",
   "execution_count": 11,
   "metadata": {},
   "outputs": [
    {
     "data": {
      "text/plain": [
       "tensor(1.0000, device='cuda:0', grad_fn=<SumBackward0>)"
      ]
     },
     "execution_count": 11,
     "metadata": {},
     "output_type": "execute_result"
    }
   ],
   "source": [
    "# もしsoftmax関数を適応したら\n",
    "\n",
    "prob_softmax=f.softmax(logits, dim=-1)\n",
    "\n",
    "prob_softmax[0,1,:].sum()\n",
    "\n",
    "#和が1になっていることを確認できる"
   ]
  },
  {
   "cell_type": "code",
   "execution_count": null,
   "metadata": {},
   "outputs": [],
   "source": []
  },
  {
   "cell_type": "code",
   "execution_count": 39,
   "metadata": {},
   "outputs": [],
   "source": [
    "# それぞれの時刻の確率を求める\n",
    "selected_log_probs = torch.gather(\n",
    "    prob, dim=-1, index=chosen_input_ids.unsqueeze(-1)  # (batch_size, seq_len, 1)\n",
    ")\n",
    "# 余計な次元を除去\n",
    "selected_log_probs = selected_log_probs.squeeze(-1)\n",
    "\n",
    "# logから確率の積が和になるため sumを利用\n",
    "\n",
    "log_p=selected_log_probs.sum(-1)"
   ]
  },
  {
   "cell_type": "code",
   "execution_count": 41,
   "metadata": {},
   "outputs": [
    {
     "data": {
      "text/plain": [
       "tensor([-576.8967], device='cuda:0', grad_fn=<SumBackward1>)"
      ]
     },
     "execution_count": 41,
     "metadata": {},
     "output_type": "execute_result"
    }
   ],
   "source": [
    "log_p"
   ]
  },
  {
   "cell_type": "code",
   "execution_count": 32,
   "metadata": {},
   "outputs": [
    {
     "name": "stdout",
     "output_type": "stream",
     "text": [
      "torch.Size([1, 54])\n",
      "torch.Size([1, 54, 1])\n"
     ]
    }
   ],
   "source": [
    "print(chosen_input_ids.shape)\n",
    "#次元の追加\n",
    "print(chosen_input_ids.unsqueeze(-1).shape)"
   ]
  },
  {
   "cell_type": "code",
   "execution_count": 35,
   "metadata": {},
   "outputs": [
    {
     "data": {
      "text/plain": [
       "tensor([128000], device='cuda:0')"
      ]
     },
     "execution_count": 35,
     "metadata": {},
     "output_type": "execute_result"
    }
   ],
   "source": [
    "# 時刻t=0では、tokenの番号が128000の確率を選択\n",
    "chosen_input_ids.unsqueeze(-1)[0,0]"
   ]
  },
  {
   "cell_type": "markdown",
   "metadata": {},
   "source": [
    "### torch.gatherの使い方\n"
   ]
  },
  {
   "cell_type": "code",
   "execution_count": 24,
   "metadata": {},
   "outputs": [
    {
     "name": "stdout",
     "output_type": "stream",
     "text": [
      "tensor([[ 70, 110]])\n"
     ]
    }
   ],
   "source": [
    "## torch.gatherの使い方\n",
    "\n",
    "import torch\n",
    "\n",
    "# 入力テンソル torch.Size([1, 2, 4])\n",
    "input_tensor = torch.tensor([[[10, 20, 30, 40],\n",
    "                              [50, 60, 70, 80]]])\n",
    "\n",
    "# 選択したいインデックス torch.Size([1, 2, 2]) に形を合わせる\n",
    "index_tensor = torch.tensor([[[2, 3], [0, 1]]])\n",
    "\n",
    "\n",
    "\n",
    "# 最後の次元に沿ってインデックスを指定して値を取得\n",
    "output = torch.gather(input_tensor, dim=-1, index=index_tensor)\n",
    "print(output.sum(-1))\n",
    "# 出力:\n",
    "# tensor([[30+40],\n",
    "#         [50+60]])\n"
   ]
  },
  {
   "cell_type": "code",
   "execution_count": null,
   "metadata": {},
   "outputs": [],
   "source": []
  },
  {
   "cell_type": "code",
   "execution_count": 14,
   "metadata": {},
   "outputs": [
    {
     "data": {
      "text/plain": [
       "torch.Size([1, 54, 1])"
      ]
     },
     "execution_count": 14,
     "metadata": {},
     "output_type": "execute_result"
    }
   ],
   "source": [
    "## このことからそれぞれの次元に対して対数の確率を計算\n",
    "selected_log_probs.shape"
   ]
  },
  {
   "cell_type": "code",
   "execution_count": 15,
   "metadata": {},
   "outputs": [
    {
     "data": {
      "text/plain": [
       "tensor(-15.1831, device='cuda:0', grad_fn=<SelectBackward0>)"
      ]
     },
     "execution_count": 15,
     "metadata": {},
     "output_type": "execute_result"
    }
   ],
   "source": [
    "selected_log_probs[0,0,0]"
   ]
  },
  {
   "cell_type": "code",
   "execution_count": null,
   "metadata": {},
   "outputs": [],
   "source": []
  }
 ],
 "metadata": {
  "kernelspec": {
   "display_name": "test",
   "language": "python",
   "name": "python3"
  },
  "language_info": {
   "codemirror_mode": {
    "name": "ipython",
    "version": 3
   },
   "file_extension": ".py",
   "mimetype": "text/x-python",
   "name": "python",
   "nbconvert_exporter": "python",
   "pygments_lexer": "ipython3",
   "version": "3.10.5"
  },
  "orig_nbformat": 4
 },
 "nbformat": 4,
 "nbformat_minor": 2
}
